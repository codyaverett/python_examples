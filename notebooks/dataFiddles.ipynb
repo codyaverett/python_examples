{
 "cells": [
  {
   "cell_type": "code",
   "execution_count": 36,
   "metadata": {},
   "outputs": [
    {
     "name": "stdout",
     "output_type": "stream",
     "text": [
      "    itemNbr       upc                      prodDesc  prodPrice\n",
      "0  55555555  55555555                         Tyson      19.38\n",
      "1  55555555  55555555           Great Value product      16.08\n",
      "0  55555555  55555555                          each       1.08\n",
      "1  55555555  55555555                         Gala        1.09\n",
      "2  55555555  55555555                  Granny Smith       1.09\n",
      "0  55555555  55555555  Freshness Guaranteed product       8.24\n"
     ]
    },
    {
     "data": {
      "text/html": [
       "<div>\n",
       "<style scoped>\n",
       "    .dataframe tbody tr th:only-of-type {\n",
       "        vertical-align: middle;\n",
       "    }\n",
       "\n",
       "    .dataframe tbody tr th {\n",
       "        vertical-align: top;\n",
       "    }\n",
       "\n",
       "    .dataframe thead th {\n",
       "        text-align: right;\n",
       "    }\n",
       "</style>\n",
       "<table border=\"1\" class=\"dataframe\">\n",
       "  <thead>\n",
       "    <tr style=\"text-align: right;\">\n",
       "      <th></th>\n",
       "      <th>itemNbr</th>\n",
       "      <th>upc</th>\n",
       "      <th>prodDesc</th>\n",
       "      <th>prodPrice</th>\n",
       "    </tr>\n",
       "  </thead>\n",
       "  <tbody>\n",
       "    <tr>\n",
       "      <th>0</th>\n",
       "      <td>55555555</td>\n",
       "      <td>55555555</td>\n",
       "      <td>Tyson</td>\n",
       "      <td>19.38</td>\n",
       "    </tr>\n",
       "    <tr>\n",
       "      <th>1</th>\n",
       "      <td>55555555</td>\n",
       "      <td>55555555</td>\n",
       "      <td>Great Value product</td>\n",
       "      <td>16.08</td>\n",
       "    </tr>\n",
       "    <tr>\n",
       "      <th>0</th>\n",
       "      <td>55555555</td>\n",
       "      <td>55555555</td>\n",
       "      <td>Freshness Guaranteed product</td>\n",
       "      <td>8.24</td>\n",
       "    </tr>\n",
       "  </tbody>\n",
       "</table>\n",
       "</div>"
      ],
      "text/plain": [
       "    itemNbr       upc                      prodDesc  prodPrice\n",
       "0  55555555  55555555                         Tyson      19.38\n",
       "1  55555555  55555555           Great Value product      16.08\n",
       "0  55555555  55555555  Freshness Guaranteed product       8.24"
      ]
     },
     "execution_count": 36,
     "metadata": {},
     "output_type": "execute_result"
    }
   ],
   "source": [
    "import pandas as pd\n",
    "\n",
    "data = {\n",
    "    \"itemsWithoutLocation\":\n",
    "    [{\"deptNbr\":65,\n",
    "    \"deptName\":\"MEAT\",\n",
    "    \"items\":\n",
    "        [{\"itemNbr\":55555555,\n",
    "        \"upc\":\"55555555\",\n",
    "        \"prodDesc\":\"Tyson\",\n",
    "        \"prodPrice\":19.38},\n",
    "        {\"itemNbr\":55555555,\n",
    "        \"upc\":\"55555555\",\n",
    "        \"prodDesc\":\"Great Value product\",\n",
    "        \"prodPrice\":16.08}]},\n",
    "    {\"deptNbr\":66,\n",
    "    \"deptName\":\"PRODUCE\",\n",
    "    \"items\":\n",
    "        [{\"itemNbr\":55555555,\n",
    "        \"upc\":\"55555555\",\n",
    "        \"prodDesc\":\" each\",\n",
    "        \"prodPrice\":1.08},\n",
    "        {\"itemNbr\":55555555,\n",
    "        \"upc\":\"55555555\",\n",
    "        \"prodDesc\":\"Gala \",\n",
    "        \"prodPrice\":1.09},\n",
    "        {\"itemNbr\":55555555,\n",
    "        \"upc\":\"55555555\",\n",
    "        \"prodDesc\":\"Granny Smith\",\n",
    "        \"prodPrice\":1.09}]},\n",
    "    {\"deptNbr\":67,\n",
    "    \"deptName\":\"BAKERY\",\n",
    "    \"items\":\n",
    "        [{\"itemNbr\":55555555,\n",
    "        \"upc\":\"55555555\",\n",
    "        \"prodDesc\":\"Freshness Guaranteed product\",\n",
    "        \"prodPrice\":8.24}]}]\n",
    "}\n",
    "\n",
    "entries = data[\"itemsWithoutLocation\"]\n",
    "\n",
    "# loop through all the entries and create a single dataframe holding every item from each department\n",
    "\n",
    "df = pd.DataFrame()\n",
    "for entry in entries:\n",
    "    df = pd.concat([df, pd.DataFrame(entry[\"items\"])])\n",
    "\n",
    "print(df)\n",
    "\n",
    "df.nlargest(3, 'prodPrice')"
   ]
  }
 ],
 "metadata": {
  "kernelspec": {
   "display_name": "notebooks-h96CBcg1",
   "language": "python",
   "name": "python3"
  },
  "language_info": {
   "codemirror_mode": {
    "name": "ipython",
    "version": 3
   },
   "file_extension": ".py",
   "mimetype": "text/x-python",
   "name": "python",
   "nbconvert_exporter": "python",
   "pygments_lexer": "ipython3",
   "version": "3.10.9"
  },
  "orig_nbformat": 4,
  "vscode": {
   "interpreter": {
    "hash": "19488a546757dfd3e77ebf30ce44a7f3803fa59b96219595b4ff94d2bd6b90be"
   }
  }
 },
 "nbformat": 4,
 "nbformat_minor": 2
}
