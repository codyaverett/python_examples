{
 "cells": [
  {
   "cell_type": "code",
   "execution_count": 7,
   "metadata": {},
   "outputs": [
    {
     "name": "stdout",
     "output_type": "stream",
     "text": [
      "---\n",
      "Apr 10 11:17:35 coderbyte app/web.3: IP_MASKED - - [10/Apr/2020:18:17:35 +0000] \"GET /backend/requests/editor/placeholder?shareLinkId=69dff0hba0nv HTTP/1.1\" 200 148 \"https://coderbyte.com\" \"Mozilla/5.0 (X11; Ubuntu; Linux x86_64; rv:74.0) Gecko/20100101 Firefox/74.0\n",
      "Apr 10 11:17:35 coderbyte heroku/router: at=info method=GET path=\"/backend/requests/editor/placeholder?key=s2fwad2Es2\" host=coderbyte.com request_id=b19a87a1-1bbb-4e67-b207-bd9f23d46afa fwd=\"108.31.000.000\" dyno=web.3 connect=0ms service=92ms status=200 bytes=3194 protocol=https\n",
      "\n",
      "Apr 10 11:17:35 coderbyte heroku/router: at=info method=GET path=\"/backend/requests/editor/placeholder?shareLinkId=tosrve4v8q8q\" host=coderbyte.com request_id=910b07d1-3f71-4347-a1a7-bfa20384ef65 fwd=\"108.31.000.000\" dyno=web.2 connect=1ms service=17ms status=200 bytes=4435 protocol=https\n",
      "\n",
      "Apr 10 11:17:35 coderbyte heroku/router: at=info method=GET path=\"/backend/requests/editor/placeholder?shareLinkId=tosrve4v8q8q\" host=coderbyte.com request_id=097bf65e-e189-4f9f-9dfb-4758cff411b2 fwd=\"108.31.000.000\" dyno=web.3 connect=1ms service=10ms status=200 bytes=4435 protocol=https\n",
      "\n",
      "Apr 10 11:17:35 coderbyte app/web.2: IP_MASKED - - [10/Apr/2020:18:17:35 +0000] \"GET /backend/requests/editor/placeholder?key=s2fwad2Es2 HTTP/1.1\" 200 4263 \"https://coderbyte.com\" \"Mozilla/5.0 (Windows NT 10.0; Win64; x64) AppleWebKit/537.36 (KHTML, like Gecko) Chrome/80.0.3987.163 Safari/537.36\n",
      "\n",
      "Apr 10 11:17:35 coderbyte heroku/router: at=info method=GET path=\"/backend/requests/editor/placeholder?shareLinkId=4eiramcmayu0\" host=coderbyte.com request_id=d48278c2-5731-464e-be38-ab9ad84ac4a8 fwd=\"108.31.000.000\" dyno=web.4 connect=1ms service=7ms status=200 bytes=3194 protocol=https\n",
      "\n",
      "Apr 10 11:17:35 coderbyte app/web.3: IP_MASKED - - [10/Apr/2020:18:17:35 +0000] \"GET /backend/requests/editor/placeholder?shareLinkId=tosrve4v8q8q HTTP/1.1\" 200 4263 \"https://coderbyte.com\" \"Mozilla/5.0 (Windows NT 10.0; Win64; x64) AppleWebKit/537.36 (KHTML, like Gecko) Chrome/80.0.3987.163 Safari/537.36\n",
      "\n",
      "Apr 10 11:17:35 coderbyte app/web.3: IP_MASKED - - [10/Apr/2020:18:17:35 +0000] \"GET /backend/requests/editor/placeholder?shareLinkId=tosrve4v8q8q HTTP/1.1\" 200 4263 \"https://coderbyte.com\" \"Mozilla/5.0 (Windows NT 10.0; Win64; x64) AppleWebKit/537.36 (KHTML, like Gecko) Chrome/80.0.3987.163 Safari/537.36\n",
      "\n",
      "Apr 10 11:17:36 coderbyte app/web.4: IP_MASKED - - [10/Apr/2020:18:17:35 +0000] \"GET /backend/requests/editor/placeholder?shareLinkId=4eiramcmayu0 HTTP/1.1\" 200 3023 \"https://coderbyte.com\" \"Mozilla/5.0 (Windows NT 10.0; Win64; x64) AppleWebKit/537.36 (KHTML, like Gecko) Chrome/80.0.3987.163 Safari/537.36\n",
      "\n",
      "Apr 10 11:17:36 coderbyte heroku/router: at=info method=GET path=\"/backend/requests/editor/placeholder?shareLinkId=tosrve4v8q8q\" host=coderbyte.com request_id=8bb2413c-3c67-4180-8091-000313b8d9ca fwd=\"MASKED\" dyno=web.3 connect=1ms service=32ms status=200 bytes=4435 protocol=https\n",
      "\n",
      "Apr 10 11:17:36 coderbyte heroku/router: at=info method=GET path=\"/backend/requests/editor/placeholder?shareLinkId=tosrve4v8q8q\" host=coderbyte.com request_id=10f93da3-2753-48a3-9485-857a93d8a88a fwd=\"MASKED\" dyno=web.3 connect=1ms service=37ms status=200 bytes=4435 protocol=https\n",
      "---fin===\n"
     ]
    }
   ],
   "source": [
    "\n",
    "!echo '---'\n",
    "\n",
    "!DATA=$(curl -s https://coderbyte.com/api/challenges/logs/web-logs-raw); \\\n",
    "echo $DATA; \\\n",
    "\n",
    "\n",
    "\n",
    "\n"
   ]
  }
 ],
 "metadata": {
  "kernelspec": {
   "display_name": "Python 3.10.8 64-bit",
   "language": "python",
   "name": "python3"
  },
  "language_info": {
   "codemirror_mode": {
    "name": "ipython",
    "version": 3
   },
   "file_extension": ".py",
   "mimetype": "text/x-python",
   "name": "python",
   "nbconvert_exporter": "python",
   "pygments_lexer": "ipython3",
   "version": "3.10.8"
  },
  "orig_nbformat": 4,
  "vscode": {
   "interpreter": {
    "hash": "b0fa6594d8f4cbf19f97940f81e996739fb7646882a419484c72d19e05852a7e"
   }
  }
 },
 "nbformat": 4,
 "nbformat_minor": 2
}
